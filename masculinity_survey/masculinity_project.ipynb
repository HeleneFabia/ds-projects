{
 "cells": [
  {
   "cell_type": "markdown",
   "metadata": {},
   "source": [
    "# Investigate the Data\n",
    "\n",
    "Data from  <a href=\"https://fivethirtyeight.com/\" target = \"_blank\">FiveThirtyEight</a>. "
   ]
  },
  {
   "cell_type": "code",
   "execution_count": 1,
   "metadata": {
    "ExecuteTime": {
     "end_time": "2020-09-09T09:45:41.310047Z",
     "start_time": "2020-09-09T09:45:39.597331Z"
    }
   },
   "outputs": [],
   "source": [
    "import pandas as pd\n",
    "import warnings\n",
    "warnings.filterwarnings(\"ignore\")\n",
    "\n",
    "survey = pd.read_csv(\"masculinity.csv\")"
   ]
  },
  {
   "cell_type": "code",
   "execution_count": 2,
   "metadata": {
    "ExecuteTime": {
     "end_time": "2020-09-09T09:45:41.341153Z",
     "start_time": "2020-09-09T09:45:41.314982Z"
    }
   },
   "outputs": [
    {
     "data": {
      "text/plain": [
       "Index(['Unnamed: 0', 'StartDate', 'EndDate', 'q0001', 'q0002', 'q0004_0001',\n",
       "       'q0004_0002', 'q0004_0003', 'q0004_0004', 'q0004_0005', 'q0004_0006',\n",
       "       'q0005', 'q0007_0001', 'q0007_0002', 'q0007_0003', 'q0007_0004',\n",
       "       'q0007_0005', 'q0007_0006', 'q0007_0007', 'q0007_0008', 'q0007_0009',\n",
       "       'q0007_0010', 'q0007_0011', 'q0008_0001', 'q0008_0002', 'q0008_0003',\n",
       "       'q0008_0004', 'q0008_0005', 'q0008_0006', 'q0008_0007', 'q0008_0008',\n",
       "       'q0008_0009', 'q0008_0010', 'q0008_0011', 'q0008_0012', 'q0009',\n",
       "       'q0010_0001', 'q0010_0002', 'q0010_0003', 'q0010_0004', 'q0010_0005',\n",
       "       'q0010_0006', 'q0010_0007', 'q0010_0008', 'q0011_0001', 'q0011_0002',\n",
       "       'q0011_0003', 'q0011_0004', 'q0011_0005', 'q0012_0001', 'q0012_0002',\n",
       "       'q0012_0003', 'q0012_0004', 'q0012_0005', 'q0012_0006', 'q0012_0007',\n",
       "       'q0013', 'q0014', 'q0015', 'q0017', 'q0018', 'q0019_0001', 'q0019_0002',\n",
       "       'q0019_0003', 'q0019_0004', 'q0019_0005', 'q0019_0006', 'q0019_0007',\n",
       "       'q0020_0001', 'q0020_0002', 'q0020_0003', 'q0020_0004', 'q0020_0005',\n",
       "       'q0020_0006', 'q0021_0001', 'q0021_0002', 'q0021_0003', 'q0021_0004',\n",
       "       'q0022', 'q0024', 'q0025_0001', 'q0025_0002', 'q0025_0003', 'q0026',\n",
       "       'q0028', 'q0029', 'q0030', 'q0034', 'q0035', 'q0036', 'race2',\n",
       "       'racethn4', 'educ3', 'educ4', 'age3', 'kids', 'orientation', 'weight'],\n",
       "      dtype='object')"
      ]
     },
     "execution_count": 2,
     "metadata": {},
     "output_type": "execute_result"
    }
   ],
   "source": [
    "survey.columns"
   ]
  },
  {
   "cell_type": "markdown",
   "metadata": {},
   "source": [
    "# Q1: How do insecurities change as people grow older?\n",
    "\n",
    "q008: Which of the following do you worry about on a daily or near daily basis? (Select all that apply.) \n",
    "- Your height\n",
    "- Your weight\n",
    "- Your hair or hairline\n",
    "- Your physique\n",
    "- Appearance of your genitalia Your clothing or style\n",
    "- Sexual performance or amount of sex\n",
    "- Your mental health\n",
    "- Your physical health\n",
    "- Your finances, including your current or future income, assets, or debt Your ability to provide for your family, current or anticipated\n",
    "- None of the above"
   ]
  },
  {
   "cell_type": "code",
   "execution_count": 3,
   "metadata": {
    "ExecuteTime": {
     "end_time": "2020-09-09T09:45:41.412165Z",
     "start_time": "2020-09-09T09:45:41.351805Z"
    }
   },
   "outputs": [
    {
     "data": {
      "text/html": [
       "<div>\n",
       "<style scoped>\n",
       "    .dataframe tbody tr th:only-of-type {\n",
       "        vertical-align: middle;\n",
       "    }\n",
       "\n",
       "    .dataframe tbody tr th {\n",
       "        vertical-align: top;\n",
       "    }\n",
       "\n",
       "    .dataframe thead th {\n",
       "        text-align: right;\n",
       "    }\n",
       "</style>\n",
       "<table border=\"1\" class=\"dataframe\">\n",
       "  <thead>\n",
       "    <tr style=\"text-align: right;\">\n",
       "      <th></th>\n",
       "      <th>q0008_0001</th>\n",
       "      <th>q0008_0002</th>\n",
       "      <th>q0008_0003</th>\n",
       "      <th>q0008_0004</th>\n",
       "      <th>q0008_0005</th>\n",
       "      <th>q0008_0006</th>\n",
       "      <th>q0008_0007</th>\n",
       "      <th>q0008_0008</th>\n",
       "      <th>q0008_0009</th>\n",
       "      <th>q0008_0010</th>\n",
       "      <th>q0008_0011</th>\n",
       "      <th>q0008_0012</th>\n",
       "    </tr>\n",
       "  </thead>\n",
       "  <tbody>\n",
       "    <tr>\n",
       "      <th>0</th>\n",
       "      <td>Not selected</td>\n",
       "      <td>Not selected</td>\n",
       "      <td>Your hair or hairline</td>\n",
       "      <td>Not selected</td>\n",
       "      <td>Not selected</td>\n",
       "      <td>Not selected</td>\n",
       "      <td>Not selected</td>\n",
       "      <td>Not selected</td>\n",
       "      <td>Your physical health</td>\n",
       "      <td>Your finances, including your current or futur...</td>\n",
       "      <td>Not selected</td>\n",
       "      <td>Not selected</td>\n",
       "    </tr>\n",
       "    <tr>\n",
       "      <th>1</th>\n",
       "      <td>Not selected</td>\n",
       "      <td>Your weight</td>\n",
       "      <td>Not selected</td>\n",
       "      <td>Not selected</td>\n",
       "      <td>Not selected</td>\n",
       "      <td>Not selected</td>\n",
       "      <td>Not selected</td>\n",
       "      <td>Your mental health</td>\n",
       "      <td>Your physical health</td>\n",
       "      <td>Not selected</td>\n",
       "      <td>Not selected</td>\n",
       "      <td>Not selected</td>\n",
       "    </tr>\n",
       "    <tr>\n",
       "      <th>2</th>\n",
       "      <td>Not selected</td>\n",
       "      <td>Not selected</td>\n",
       "      <td>Not selected</td>\n",
       "      <td>Not selected</td>\n",
       "      <td>Not selected</td>\n",
       "      <td>Not selected</td>\n",
       "      <td>Not selected</td>\n",
       "      <td>Not selected</td>\n",
       "      <td>Your physical health</td>\n",
       "      <td>Not selected</td>\n",
       "      <td>Not selected</td>\n",
       "      <td>Not selected</td>\n",
       "    </tr>\n",
       "    <tr>\n",
       "      <th>3</th>\n",
       "      <td>Not selected</td>\n",
       "      <td>Not selected</td>\n",
       "      <td>Not selected</td>\n",
       "      <td>Not selected</td>\n",
       "      <td>Not selected</td>\n",
       "      <td>Not selected</td>\n",
       "      <td>Not selected</td>\n",
       "      <td>Not selected</td>\n",
       "      <td>Not selected</td>\n",
       "      <td>Not selected</td>\n",
       "      <td>Not selected</td>\n",
       "      <td>None of the above</td>\n",
       "    </tr>\n",
       "    <tr>\n",
       "      <th>4</th>\n",
       "      <td>Not selected</td>\n",
       "      <td>Your weight</td>\n",
       "      <td>Not selected</td>\n",
       "      <td>Not selected</td>\n",
       "      <td>Not selected</td>\n",
       "      <td>Not selected</td>\n",
       "      <td>Not selected</td>\n",
       "      <td>Not selected</td>\n",
       "      <td>Not selected</td>\n",
       "      <td>Not selected</td>\n",
       "      <td>Not selected</td>\n",
       "      <td>Not selected</td>\n",
       "    </tr>\n",
       "  </tbody>\n",
       "</table>\n",
       "</div>"
      ],
      "text/plain": [
       "     q0008_0001    q0008_0002             q0008_0003    q0008_0004  \\\n",
       "0  Not selected  Not selected  Your hair or hairline  Not selected   \n",
       "1  Not selected   Your weight           Not selected  Not selected   \n",
       "2  Not selected  Not selected           Not selected  Not selected   \n",
       "3  Not selected  Not selected           Not selected  Not selected   \n",
       "4  Not selected   Your weight           Not selected  Not selected   \n",
       "\n",
       "     q0008_0005    q0008_0006    q0008_0007          q0008_0008  \\\n",
       "0  Not selected  Not selected  Not selected        Not selected   \n",
       "1  Not selected  Not selected  Not selected  Your mental health   \n",
       "2  Not selected  Not selected  Not selected        Not selected   \n",
       "3  Not selected  Not selected  Not selected        Not selected   \n",
       "4  Not selected  Not selected  Not selected        Not selected   \n",
       "\n",
       "             q0008_0009                                         q0008_0010  \\\n",
       "0  Your physical health  Your finances, including your current or futur...   \n",
       "1  Your physical health                                       Not selected   \n",
       "2  Your physical health                                       Not selected   \n",
       "3          Not selected                                       Not selected   \n",
       "4          Not selected                                       Not selected   \n",
       "\n",
       "     q0008_0011         q0008_0012  \n",
       "0  Not selected       Not selected  \n",
       "1  Not selected       Not selected  \n",
       "2  Not selected       Not selected  \n",
       "3  Not selected  None of the above  \n",
       "4  Not selected       Not selected  "
      ]
     },
     "execution_count": 3,
     "metadata": {},
     "output_type": "execute_result"
    }
   ],
   "source": [
    "survey[['q0008_0001', 'q0008_0002', 'q0008_0003',\n",
    "       'q0008_0004', 'q0008_0005', 'q0008_0006', 'q0008_0007', 'q0008_0008',\n",
    "       'q0008_0009', 'q0008_0010', 'q0008_0011', 'q0008_0012']].head()"
   ]
  },
  {
   "cell_type": "code",
   "execution_count": 4,
   "metadata": {
    "ExecuteTime": {
     "end_time": "2020-09-09T09:45:41.448731Z",
     "start_time": "2020-09-09T09:45:41.422376Z"
    }
   },
   "outputs": [
    {
     "data": {
      "text/plain": [
       "q0008_0001    False\n",
       "q0008_0002    False\n",
       "q0008_0003    False\n",
       "q0008_0004    False\n",
       "q0008_0005    False\n",
       "q0008_0006    False\n",
       "q0008_0007    False\n",
       "q0008_0008    False\n",
       "q0008_0009    False\n",
       "q0008_0010    False\n",
       "q0008_0011    False\n",
       "q0008_0012    False\n",
       "dtype: bool"
      ]
     },
     "execution_count": 4,
     "metadata": {},
     "output_type": "execute_result"
    }
   ],
   "source": [
    "survey[['q0008_0001', 'q0008_0002', 'q0008_0003',\n",
    "       'q0008_0004', 'q0008_0005', 'q0008_0006', 'q0008_0007', 'q0008_0008',\n",
    "       'q0008_0009', 'q0008_0010', 'q0008_0011', 'q0008_0012']].isna().any()"
   ]
  },
  {
   "cell_type": "code",
   "execution_count": 5,
   "metadata": {
    "ExecuteTime": {
     "end_time": "2020-09-09T09:45:41.556567Z",
     "start_time": "2020-09-09T09:45:41.459026Z"
    }
   },
   "outputs": [],
   "source": [
    "insecurities = ['q0008_0001', 'q0008_0002', 'q0008_0003',\n",
    "       'q0008_0004', 'q0008_0005', 'q0008_0006', 'q0008_0007', 'q0008_0008',\n",
    "       'q0008_0009', 'q0008_0010', 'q0008_0011', 'q0008_0012']\n",
    "for i in insecurities:\n",
    "    survey[i] = survey[i].map({'Not selected': 0, 'Your height' :1, 'Your weight':1, 'Your hair or hairline':1, \n",
    "                               'Your physique':1, 'Appearance of your genitalia':1, 'Your clothing or style':1, \n",
    "                               'Sexual performance or amount of sex':1,'Your mental health':1, \n",
    "                               'Your physical health':1,\n",
    "                               'Your finances, including your current or future income, assets, or debt':1,\n",
    "                               'Your ability to provide for your family, current or anticipated':1, \n",
    "                               'None of the above':1})"
   ]
  },
  {
   "cell_type": "code",
   "execution_count": 6,
   "metadata": {
    "ExecuteTime": {
     "end_time": "2020-09-09T09:45:41.580726Z",
     "start_time": "2020-09-09T09:45:41.561273Z"
    }
   },
   "outputs": [
    {
     "data": {
      "text/plain": [
       "q0008_0001    False\n",
       "q0008_0002    False\n",
       "q0008_0003    False\n",
       "q0008_0004    False\n",
       "q0008_0005    False\n",
       "q0008_0006    False\n",
       "q0008_0007    False\n",
       "q0008_0008    False\n",
       "q0008_0009    False\n",
       "q0008_0010    False\n",
       "q0008_0011    False\n",
       "q0008_0012    False\n",
       "dtype: bool"
      ]
     },
     "execution_count": 6,
     "metadata": {},
     "output_type": "execute_result"
    }
   ],
   "source": [
    "survey[['q0008_0001', 'q0008_0002', 'q0008_0003',\n",
    "       'q0008_0004', 'q0008_0005', 'q0008_0006', 'q0008_0007', 'q0008_0008',\n",
    "       'q0008_0009', 'q0008_0010', 'q0008_0011', 'q0008_0012']].isna().any()"
   ]
  },
  {
   "cell_type": "code",
   "execution_count": 7,
   "metadata": {
    "ExecuteTime": {
     "end_time": "2020-09-09T09:45:41.892646Z",
     "start_time": "2020-09-09T09:45:41.873993Z"
    }
   },
   "outputs": [
    {
     "data": {
      "text/plain": [
       "65 and up    581\n",
       "35 - 64      538\n",
       "18 - 34       69\n",
       "Name: age3, dtype: int64"
      ]
     },
     "execution_count": 7,
     "metadata": {},
     "output_type": "execute_result"
    }
   ],
   "source": [
    "survey.age3.value_counts()"
   ]
  },
  {
   "cell_type": "code",
   "execution_count": 8,
   "metadata": {
    "ExecuteTime": {
     "end_time": "2020-09-09T09:45:41.988586Z",
     "start_time": "2020-09-09T09:45:41.975682Z"
    }
   },
   "outputs": [],
   "source": [
    "insecurities = ['q0008_0001', 'q0008_0002', 'q0008_0003',\n",
    "       'q0008_0004', 'q0008_0005', 'q0008_0006', 'q0008_0007', 'q0008_0008',\n",
    "       'q0008_0009', 'q0008_0010', 'q0008_0011', 'q0008_0012']\n",
    "answers = ['Your height', 'Your weight', 'Your hair or hairline', 'Your physique', 'Appearance of your genitalia',\n",
    "           'Your clothing or style', 'Sexual performance or amount of sex','Your mental health', \n",
    "           'Your physical health','Your finances, including your current or future income, assets, or debt',\n",
    "           'Your ability to provide for your family, current or anticipated', 'None of the above']"
   ]
  },
  {
   "cell_type": "code",
   "execution_count": 9,
   "metadata": {
    "ExecuteTime": {
     "end_time": "2020-09-09T09:45:42.091317Z",
     "start_time": "2020-09-09T09:45:42.074992Z"
    }
   },
   "outputs": [],
   "source": [
    "survey_grouped = survey.groupby(['age3']).sum()"
   ]
  },
  {
   "cell_type": "code",
   "execution_count": 10,
   "metadata": {
    "ExecuteTime": {
     "end_time": "2020-09-09T09:45:42.230402Z",
     "start_time": "2020-09-09T09:45:42.211393Z"
    }
   },
   "outputs": [
    {
     "data": {
      "text/html": [
       "<div>\n",
       "<style scoped>\n",
       "    .dataframe tbody tr th:only-of-type {\n",
       "        vertical-align: middle;\n",
       "    }\n",
       "\n",
       "    .dataframe tbody tr th {\n",
       "        vertical-align: top;\n",
       "    }\n",
       "\n",
       "    .dataframe thead th {\n",
       "        text-align: right;\n",
       "    }\n",
       "</style>\n",
       "<table border=\"1\" class=\"dataframe\">\n",
       "  <thead>\n",
       "    <tr style=\"text-align: right;\">\n",
       "      <th></th>\n",
       "      <th>Unnamed: 0</th>\n",
       "      <th>q0008_0001</th>\n",
       "      <th>q0008_0002</th>\n",
       "      <th>q0008_0003</th>\n",
       "      <th>q0008_0004</th>\n",
       "      <th>q0008_0005</th>\n",
       "      <th>q0008_0006</th>\n",
       "      <th>q0008_0007</th>\n",
       "      <th>q0008_0008</th>\n",
       "      <th>q0008_0009</th>\n",
       "      <th>q0008_0010</th>\n",
       "      <th>q0008_0011</th>\n",
       "      <th>q0008_0012</th>\n",
       "      <th>weight</th>\n",
       "    </tr>\n",
       "    <tr>\n",
       "      <th>age3</th>\n",
       "      <th></th>\n",
       "      <th></th>\n",
       "      <th></th>\n",
       "      <th></th>\n",
       "      <th></th>\n",
       "      <th></th>\n",
       "      <th></th>\n",
       "      <th></th>\n",
       "      <th></th>\n",
       "      <th></th>\n",
       "      <th></th>\n",
       "      <th></th>\n",
       "      <th></th>\n",
       "      <th></th>\n",
       "    </tr>\n",
       "  </thead>\n",
       "  <tbody>\n",
       "    <tr>\n",
       "      <th>18 - 34</th>\n",
       "      <td>27260</td>\n",
       "      <td>9</td>\n",
       "      <td>32</td>\n",
       "      <td>21</td>\n",
       "      <td>23</td>\n",
       "      <td>9</td>\n",
       "      <td>17</td>\n",
       "      <td>18</td>\n",
       "      <td>32</td>\n",
       "      <td>28</td>\n",
       "      <td>40</td>\n",
       "      <td>27</td>\n",
       "      <td>8</td>\n",
       "      <td>264.987582</td>\n",
       "    </tr>\n",
       "    <tr>\n",
       "      <th>35 - 64</th>\n",
       "      <td>323690</td>\n",
       "      <td>21</td>\n",
       "      <td>313</td>\n",
       "      <td>69</td>\n",
       "      <td>192</td>\n",
       "      <td>54</td>\n",
       "      <td>67</td>\n",
       "      <td>123</td>\n",
       "      <td>134</td>\n",
       "      <td>285</td>\n",
       "      <td>306</td>\n",
       "      <td>196</td>\n",
       "      <td>75</td>\n",
       "      <td>460.175830</td>\n",
       "    </tr>\n",
       "    <tr>\n",
       "      <th>65 and up</th>\n",
       "      <td>355316</td>\n",
       "      <td>12</td>\n",
       "      <td>318</td>\n",
       "      <td>45</td>\n",
       "      <td>137</td>\n",
       "      <td>32</td>\n",
       "      <td>44</td>\n",
       "      <td>102</td>\n",
       "      <td>95</td>\n",
       "      <td>314</td>\n",
       "      <td>180</td>\n",
       "      <td>75</td>\n",
       "      <td>118</td>\n",
       "      <td>278.820433</td>\n",
       "    </tr>\n",
       "  </tbody>\n",
       "</table>\n",
       "</div>"
      ],
      "text/plain": [
       "           Unnamed: 0  q0008_0001  q0008_0002  q0008_0003  q0008_0004  \\\n",
       "age3                                                                    \n",
       "18 - 34         27260           9          32          21          23   \n",
       "35 - 64        323690          21         313          69         192   \n",
       "65 and up      355316          12         318          45         137   \n",
       "\n",
       "           q0008_0005  q0008_0006  q0008_0007  q0008_0008  q0008_0009  \\\n",
       "age3                                                                    \n",
       "18 - 34             9          17          18          32          28   \n",
       "35 - 64            54          67         123         134         285   \n",
       "65 and up          32          44         102          95         314   \n",
       "\n",
       "           q0008_0010  q0008_0011  q0008_0012      weight  \n",
       "age3                                                       \n",
       "18 - 34            40          27           8  264.987582  \n",
       "35 - 64           306         196          75  460.175830  \n",
       "65 and up         180          75         118  278.820433  "
      ]
     },
     "execution_count": 10,
     "metadata": {},
     "output_type": "execute_result"
    }
   ],
   "source": [
    "survey_grouped"
   ]
  },
  {
   "cell_type": "code",
   "execution_count": 11,
   "metadata": {
    "ExecuteTime": {
     "end_time": "2020-09-09T09:45:42.687300Z",
     "start_time": "2020-09-09T09:45:42.680607Z"
    }
   },
   "outputs": [],
   "source": [
    "survey_grouped.drop(['Unnamed: 0'], axis=1, inplace=True)"
   ]
  },
  {
   "cell_type": "code",
   "execution_count": 12,
   "metadata": {
    "ExecuteTime": {
     "end_time": "2020-09-09T09:45:42.770025Z",
     "start_time": "2020-09-09T09:45:42.765637Z"
    }
   },
   "outputs": [],
   "source": [
    "survey_grouped.reset_index(drop = True, inplace = True)"
   ]
  },
  {
   "cell_type": "code",
   "execution_count": 13,
   "metadata": {
    "ExecuteTime": {
     "end_time": "2020-09-09T09:45:42.878866Z",
     "start_time": "2020-09-09T09:45:42.859537Z"
    }
   },
   "outputs": [
    {
     "data": {
      "text/html": [
       "<div>\n",
       "<style scoped>\n",
       "    .dataframe tbody tr th:only-of-type {\n",
       "        vertical-align: middle;\n",
       "    }\n",
       "\n",
       "    .dataframe tbody tr th {\n",
       "        vertical-align: top;\n",
       "    }\n",
       "\n",
       "    .dataframe thead th {\n",
       "        text-align: right;\n",
       "    }\n",
       "</style>\n",
       "<table border=\"1\" class=\"dataframe\">\n",
       "  <thead>\n",
       "    <tr style=\"text-align: right;\">\n",
       "      <th></th>\n",
       "      <th>q0008_0001</th>\n",
       "      <th>q0008_0002</th>\n",
       "      <th>q0008_0003</th>\n",
       "      <th>q0008_0004</th>\n",
       "      <th>q0008_0005</th>\n",
       "      <th>q0008_0006</th>\n",
       "      <th>q0008_0007</th>\n",
       "      <th>q0008_0008</th>\n",
       "      <th>q0008_0009</th>\n",
       "      <th>q0008_0010</th>\n",
       "      <th>q0008_0011</th>\n",
       "      <th>q0008_0012</th>\n",
       "      <th>weight</th>\n",
       "    </tr>\n",
       "  </thead>\n",
       "  <tbody>\n",
       "    <tr>\n",
       "      <th>0</th>\n",
       "      <td>9</td>\n",
       "      <td>32</td>\n",
       "      <td>21</td>\n",
       "      <td>23</td>\n",
       "      <td>9</td>\n",
       "      <td>17</td>\n",
       "      <td>18</td>\n",
       "      <td>32</td>\n",
       "      <td>28</td>\n",
       "      <td>40</td>\n",
       "      <td>27</td>\n",
       "      <td>8</td>\n",
       "      <td>264.987582</td>\n",
       "    </tr>\n",
       "    <tr>\n",
       "      <th>1</th>\n",
       "      <td>21</td>\n",
       "      <td>313</td>\n",
       "      <td>69</td>\n",
       "      <td>192</td>\n",
       "      <td>54</td>\n",
       "      <td>67</td>\n",
       "      <td>123</td>\n",
       "      <td>134</td>\n",
       "      <td>285</td>\n",
       "      <td>306</td>\n",
       "      <td>196</td>\n",
       "      <td>75</td>\n",
       "      <td>460.175830</td>\n",
       "    </tr>\n",
       "    <tr>\n",
       "      <th>2</th>\n",
       "      <td>12</td>\n",
       "      <td>318</td>\n",
       "      <td>45</td>\n",
       "      <td>137</td>\n",
       "      <td>32</td>\n",
       "      <td>44</td>\n",
       "      <td>102</td>\n",
       "      <td>95</td>\n",
       "      <td>314</td>\n",
       "      <td>180</td>\n",
       "      <td>75</td>\n",
       "      <td>118</td>\n",
       "      <td>278.820433</td>\n",
       "    </tr>\n",
       "  </tbody>\n",
       "</table>\n",
       "</div>"
      ],
      "text/plain": [
       "   q0008_0001  q0008_0002  q0008_0003  q0008_0004  q0008_0005  q0008_0006  \\\n",
       "0           9          32          21          23           9          17   \n",
       "1          21         313          69         192          54          67   \n",
       "2          12         318          45         137          32          44   \n",
       "\n",
       "   q0008_0007  q0008_0008  q0008_0009  q0008_0010  q0008_0011  q0008_0012  \\\n",
       "0          18          32          28          40          27           8   \n",
       "1         123         134         285         306         196          75   \n",
       "2         102          95         314         180          75         118   \n",
       "\n",
       "       weight  \n",
       "0  264.987582  \n",
       "1  460.175830  \n",
       "2  278.820433  "
      ]
     },
     "execution_count": 13,
     "metadata": {},
     "output_type": "execute_result"
    }
   ],
   "source": [
    "survey_grouped"
   ]
  },
  {
   "cell_type": "code",
   "execution_count": 14,
   "metadata": {
    "ExecuteTime": {
     "end_time": "2020-09-09T09:45:43.390930Z",
     "start_time": "2020-09-09T09:45:43.344042Z"
    }
   },
   "outputs": [],
   "source": [
    "survey_grouped.loc[0] = survey_grouped.loc[0].div(69)\n",
    "survey_grouped.loc[1] = survey_grouped.loc[1].div(538)\n",
    "survey_grouped.loc[2] = survey_grouped.loc[2].div(581)"
   ]
  },
  {
   "cell_type": "code",
   "execution_count": 15,
   "metadata": {
    "ExecuteTime": {
     "end_time": "2020-09-09T09:45:43.452451Z",
     "start_time": "2020-09-09T09:45:43.432941Z"
    }
   },
   "outputs": [
    {
     "data": {
      "text/html": [
       "<div>\n",
       "<style scoped>\n",
       "    .dataframe tbody tr th:only-of-type {\n",
       "        vertical-align: middle;\n",
       "    }\n",
       "\n",
       "    .dataframe tbody tr th {\n",
       "        vertical-align: top;\n",
       "    }\n",
       "\n",
       "    .dataframe thead th {\n",
       "        text-align: right;\n",
       "    }\n",
       "</style>\n",
       "<table border=\"1\" class=\"dataframe\">\n",
       "  <thead>\n",
       "    <tr style=\"text-align: right;\">\n",
       "      <th></th>\n",
       "      <th>q0008_0001</th>\n",
       "      <th>q0008_0002</th>\n",
       "      <th>q0008_0003</th>\n",
       "      <th>q0008_0004</th>\n",
       "      <th>q0008_0005</th>\n",
       "      <th>q0008_0006</th>\n",
       "      <th>q0008_0007</th>\n",
       "      <th>q0008_0008</th>\n",
       "      <th>q0008_0009</th>\n",
       "      <th>q0008_0010</th>\n",
       "      <th>q0008_0011</th>\n",
       "      <th>q0008_0012</th>\n",
       "      <th>weight</th>\n",
       "    </tr>\n",
       "  </thead>\n",
       "  <tbody>\n",
       "    <tr>\n",
       "      <th>0</th>\n",
       "      <td>0.130435</td>\n",
       "      <td>0.463768</td>\n",
       "      <td>0.304348</td>\n",
       "      <td>0.333333</td>\n",
       "      <td>0.130435</td>\n",
       "      <td>0.246377</td>\n",
       "      <td>0.260870</td>\n",
       "      <td>0.463768</td>\n",
       "      <td>0.405797</td>\n",
       "      <td>0.579710</td>\n",
       "      <td>0.391304</td>\n",
       "      <td>0.115942</td>\n",
       "      <td>3.840400</td>\n",
       "    </tr>\n",
       "    <tr>\n",
       "      <th>1</th>\n",
       "      <td>0.039033</td>\n",
       "      <td>0.581784</td>\n",
       "      <td>0.128253</td>\n",
       "      <td>0.356877</td>\n",
       "      <td>0.100372</td>\n",
       "      <td>0.124535</td>\n",
       "      <td>0.228625</td>\n",
       "      <td>0.249071</td>\n",
       "      <td>0.529740</td>\n",
       "      <td>0.568773</td>\n",
       "      <td>0.364312</td>\n",
       "      <td>0.139405</td>\n",
       "      <td>0.855345</td>\n",
       "    </tr>\n",
       "    <tr>\n",
       "      <th>2</th>\n",
       "      <td>0.020654</td>\n",
       "      <td>0.547332</td>\n",
       "      <td>0.077453</td>\n",
       "      <td>0.235800</td>\n",
       "      <td>0.055077</td>\n",
       "      <td>0.075731</td>\n",
       "      <td>0.175559</td>\n",
       "      <td>0.163511</td>\n",
       "      <td>0.540448</td>\n",
       "      <td>0.309811</td>\n",
       "      <td>0.129088</td>\n",
       "      <td>0.203098</td>\n",
       "      <td>0.479897</td>\n",
       "    </tr>\n",
       "  </tbody>\n",
       "</table>\n",
       "</div>"
      ],
      "text/plain": [
       "   q0008_0001  q0008_0002  q0008_0003  q0008_0004  q0008_0005  q0008_0006  \\\n",
       "0    0.130435    0.463768    0.304348    0.333333    0.130435    0.246377   \n",
       "1    0.039033    0.581784    0.128253    0.356877    0.100372    0.124535   \n",
       "2    0.020654    0.547332    0.077453    0.235800    0.055077    0.075731   \n",
       "\n",
       "   q0008_0007  q0008_0008  q0008_0009  q0008_0010  q0008_0011  q0008_0012  \\\n",
       "0    0.260870    0.463768    0.405797    0.579710    0.391304    0.115942   \n",
       "1    0.228625    0.249071    0.529740    0.568773    0.364312    0.139405   \n",
       "2    0.175559    0.163511    0.540448    0.309811    0.129088    0.203098   \n",
       "\n",
       "     weight  \n",
       "0  3.840400  \n",
       "1  0.855345  \n",
       "2  0.479897  "
      ]
     },
     "execution_count": 15,
     "metadata": {},
     "output_type": "execute_result"
    }
   ],
   "source": [
    "survey_grouped"
   ]
  },
  {
   "cell_type": "code",
   "execution_count": 16,
   "metadata": {
    "ExecuteTime": {
     "end_time": "2020-09-09T09:45:44.408187Z",
     "start_time": "2020-09-09T09:45:43.899907Z"
    }
   },
   "outputs": [],
   "source": [
    "from matplotlib import pyplot as plt"
   ]
  },
  {
   "cell_type": "code",
   "execution_count": 17,
   "metadata": {
    "ExecuteTime": {
     "end_time": "2020-09-09T09:45:44.421509Z",
     "start_time": "2020-09-09T09:45:44.413214Z"
    }
   },
   "outputs": [],
   "source": [
    "questions = ['q0008_0001', 'q0008_0002', 'q0008_0003',\n",
    "       'q0008_0004', 'q0008_0005', 'q0008_0006', 'q0008_0007', 'q0008_0008',\n",
    "       'q0008_0009', 'q0008_0010', 'q0008_0011', 'q0008_0012']\n",
    "titles = ['Height', 'Weight', 'Hair or hairline', 'Physique', 'Appearance of genitalia',\n",
    "           'Clothing or style', 'Sexual performance or amount of sex','Mental health', \n",
    "           'Physical health','Finances, including current or future income, assets, or debt',\n",
    "           'Ability to provide for family, current or anticipated', 'None of the above']"
   ]
  },
  {
   "cell_type": "code",
   "execution_count": 29,
   "metadata": {
    "ExecuteTime": {
     "end_time": "2020-09-09T09:48:19.724396Z",
     "start_time": "2020-09-09T09:48:17.492517Z"
    }
   },
   "outputs": [
    {
     "data": {
      "image/png": "[encoded data removed]",
      "text/plain": [
       "<Figure size 2160x1440 with 12 Axes>"
      ]
     },
     "metadata": {
      "needs_background": "light"
     },
     "output_type": "display_data"
    }
   ],
   "source": [
    "fig = plt.figure(figsize = (30, 20))\n",
    "fig.suptitle('How do insecurities change as men grow older?', fontsize=25)\n",
    "\n",
    "for i in range(len(questions)):\n",
    "    ax = fig.add_subplot(3,4,i+1)\n",
    "    y = survey_grouped[questions[i]]\n",
    "    x = range(len(y))\n",
    "    plt.ylim(0, 1)\n",
    "    plt.ylabel('Percentage of Men', fontsize=10)\n",
    "    #ax.title.set_text(titles[i], fontsize=20)\n",
    "    ax.set_title(titles[i], fontsize=15)\n",
    "    ax.set_xticks(range(3))\n",
    "    ax.set_xticklabels(['18 - 34', '35 - 64', '65 and up'], fontsize=10)\n",
    "    plt.bar(x, y)\n"
   ]
  },
  {
   "cell_type": "markdown",
   "metadata": {},
   "source": [
    "# Q2: Which demographic features have stronger correlations with ideas of masculinity (sexual orientation, age, race, marital status, parenthood?)"
   ]
  },
  {
   "cell_type": "markdown",
   "metadata": {},
   "source": [
    "q001: In general, how masculine or “manly” do you feel?\n",
    "- Very masculine \n",
    "- Somewhat masculine \n",
    "- Not very masculine \n",
    "- Not at all masculine\n",
    "\n",
    "age3: What is your age?\n",
    "\n",
    "kids: Do you have any children? (Select all that apply.) \n",
    "- Yes, one or more children under 18\n",
    "- Yes, one or more children 18 or older\n",
    "- No children\n",
    "\n",
    "q0026: Would you describe your sexual orientation as: \n",
    "- Straight\n",
    "- Gay \n",
    "- Bisexual \n",
    "- Other\n",
    "\n",
    "racethn4:Are you: \n",
    "- White \n",
    "- Black\n",
    "- Hispanic \n",
    "- Asian \n",
    "- Other\n",
    "\n",
    "q0024:  Are you now married, widowed, divorced, separated, or have you never\n",
    " been married?\n",
    "- Married \n",
    "- Widowed \n",
    "- Divorced \n",
    "- Separated \n",
    "- Never married"
   ]
  },
  {
   "cell_type": "code",
   "execution_count": 31,
   "metadata": {
    "ExecuteTime": {
     "end_time": "2020-09-09T09:49:32.277907Z",
     "start_time": "2020-09-09T09:49:32.267434Z"
    }
   },
   "outputs": [],
   "source": [
    "selection = survey[['q0001', 'age3', 'kids', 'q0026', 'racethn4', 'q0024']]"
   ]
  },
  {
   "cell_type": "code",
   "execution_count": 32,
   "metadata": {
    "ExecuteTime": {
     "end_time": "2020-09-09T09:49:32.644335Z",
     "start_time": "2020-09-09T09:49:32.628377Z"
    },
    "scrolled": true
   },
   "outputs": [
    {
     "data": {
      "text/html": [
       "<div>\n",
       "<style scoped>\n",
       "    .dataframe tbody tr th:only-of-type {\n",
       "        vertical-align: middle;\n",
       "    }\n",
       "\n",
       "    .dataframe tbody tr th {\n",
       "        vertical-align: top;\n",
       "    }\n",
       "\n",
       "    .dataframe thead th {\n",
       "        text-align: right;\n",
       "    }\n",
       "</style>\n",
       "<table border=\"1\" class=\"dataframe\">\n",
       "  <thead>\n",
       "    <tr style=\"text-align: right;\">\n",
       "      <th></th>\n",
       "      <th>q0001</th>\n",
       "      <th>age3</th>\n",
       "      <th>kids</th>\n",
       "      <th>q0026</th>\n",
       "      <th>racethn4</th>\n",
       "      <th>q0024</th>\n",
       "    </tr>\n",
       "  </thead>\n",
       "  <tbody>\n",
       "    <tr>\n",
       "      <th>0</th>\n",
       "      <td>Somewhat masculine</td>\n",
       "      <td>35 - 64</td>\n",
       "      <td>No children</td>\n",
       "      <td>Gay</td>\n",
       "      <td>Hispanic</td>\n",
       "      <td>Never married</td>\n",
       "    </tr>\n",
       "    <tr>\n",
       "      <th>1</th>\n",
       "      <td>Somewhat masculine</td>\n",
       "      <td>65 and up</td>\n",
       "      <td>Has children</td>\n",
       "      <td>Straight</td>\n",
       "      <td>White</td>\n",
       "      <td>Widowed</td>\n",
       "    </tr>\n",
       "    <tr>\n",
       "      <th>2</th>\n",
       "      <td>Very masculine</td>\n",
       "      <td>35 - 64</td>\n",
       "      <td>Has children</td>\n",
       "      <td>Straight</td>\n",
       "      <td>White</td>\n",
       "      <td>Married</td>\n",
       "    </tr>\n",
       "    <tr>\n",
       "      <th>3</th>\n",
       "      <td>Very masculine</td>\n",
       "      <td>65 and up</td>\n",
       "      <td>Has children</td>\n",
       "      <td>No answer</td>\n",
       "      <td>White</td>\n",
       "      <td>Married</td>\n",
       "    </tr>\n",
       "    <tr>\n",
       "      <th>4</th>\n",
       "      <td>Very masculine</td>\n",
       "      <td>35 - 64</td>\n",
       "      <td>No children</td>\n",
       "      <td>Straight</td>\n",
       "      <td>White</td>\n",
       "      <td>Never married</td>\n",
       "    </tr>\n",
       "  </tbody>\n",
       "</table>\n",
       "</div>"
      ],
      "text/plain": [
       "                q0001       age3          kids      q0026  racethn4  \\\n",
       "0  Somewhat masculine    35 - 64   No children        Gay  Hispanic   \n",
       "1  Somewhat masculine  65 and up  Has children   Straight     White   \n",
       "2      Very masculine    35 - 64  Has children   Straight     White   \n",
       "3      Very masculine  65 and up  Has children  No answer     White   \n",
       "4      Very masculine    35 - 64   No children   Straight     White   \n",
       "\n",
       "           q0024  \n",
       "0  Never married  \n",
       "1        Widowed  \n",
       "2        Married  \n",
       "3        Married  \n",
       "4  Never married  "
      ]
     },
     "execution_count": 32,
     "metadata": {},
     "output_type": "execute_result"
    }
   ],
   "source": [
    "selection.head()"
   ]
  },
  {
   "cell_type": "code",
   "execution_count": 33,
   "metadata": {
    "ExecuteTime": {
     "end_time": "2020-09-09T09:49:33.132766Z",
     "start_time": "2020-09-09T09:49:33.125345Z"
    }
   },
   "outputs": [],
   "source": [
    "selection.columns = ['masculinity', 'age_group', 'kids', 'orientation', 'race', 'marital_status']"
   ]
  },
  {
   "cell_type": "code",
   "execution_count": 34,
   "metadata": {
    "ExecuteTime": {
     "end_time": "2020-09-09T09:49:33.232357Z",
     "start_time": "2020-09-09T09:49:33.214635Z"
    }
   },
   "outputs": [
    {
     "data": {
      "text/html": [
       "<div>\n",
       "<style scoped>\n",
       "    .dataframe tbody tr th:only-of-type {\n",
       "        vertical-align: middle;\n",
       "    }\n",
       "\n",
       "    .dataframe tbody tr th {\n",
       "        vertical-align: top;\n",
       "    }\n",
       "\n",
       "    .dataframe thead th {\n",
       "        text-align: right;\n",
       "    }\n",
       "</style>\n",
       "<table border=\"1\" class=\"dataframe\">\n",
       "  <thead>\n",
       "    <tr style=\"text-align: right;\">\n",
       "      <th></th>\n",
       "      <th>masculinity</th>\n",
       "      <th>age_group</th>\n",
       "      <th>kids</th>\n",
       "      <th>orientation</th>\n",
       "      <th>race</th>\n",
       "      <th>marital_status</th>\n",
       "    </tr>\n",
       "  </thead>\n",
       "  <tbody>\n",
       "    <tr>\n",
       "      <th>0</th>\n",
       "      <td>Somewhat masculine</td>\n",
       "      <td>35 - 64</td>\n",
       "      <td>No children</td>\n",
       "      <td>Gay</td>\n",
       "      <td>Hispanic</td>\n",
       "      <td>Never married</td>\n",
       "    </tr>\n",
       "    <tr>\n",
       "      <th>1</th>\n",
       "      <td>Somewhat masculine</td>\n",
       "      <td>65 and up</td>\n",
       "      <td>Has children</td>\n",
       "      <td>Straight</td>\n",
       "      <td>White</td>\n",
       "      <td>Widowed</td>\n",
       "    </tr>\n",
       "    <tr>\n",
       "      <th>2</th>\n",
       "      <td>Very masculine</td>\n",
       "      <td>35 - 64</td>\n",
       "      <td>Has children</td>\n",
       "      <td>Straight</td>\n",
       "      <td>White</td>\n",
       "      <td>Married</td>\n",
       "    </tr>\n",
       "    <tr>\n",
       "      <th>3</th>\n",
       "      <td>Very masculine</td>\n",
       "      <td>65 and up</td>\n",
       "      <td>Has children</td>\n",
       "      <td>No answer</td>\n",
       "      <td>White</td>\n",
       "      <td>Married</td>\n",
       "    </tr>\n",
       "    <tr>\n",
       "      <th>4</th>\n",
       "      <td>Very masculine</td>\n",
       "      <td>35 - 64</td>\n",
       "      <td>No children</td>\n",
       "      <td>Straight</td>\n",
       "      <td>White</td>\n",
       "      <td>Never married</td>\n",
       "    </tr>\n",
       "  </tbody>\n",
       "</table>\n",
       "</div>"
      ],
      "text/plain": [
       "          masculinity  age_group          kids orientation      race  \\\n",
       "0  Somewhat masculine    35 - 64   No children         Gay  Hispanic   \n",
       "1  Somewhat masculine  65 and up  Has children    Straight     White   \n",
       "2      Very masculine    35 - 64  Has children    Straight     White   \n",
       "3      Very masculine  65 and up  Has children   No answer     White   \n",
       "4      Very masculine    35 - 64   No children    Straight     White   \n",
       "\n",
       "  marital_status  \n",
       "0  Never married  \n",
       "1        Widowed  \n",
       "2        Married  \n",
       "3        Married  \n",
       "4  Never married  "
      ]
     },
     "execution_count": 34,
     "metadata": {},
     "output_type": "execute_result"
    }
   ],
   "source": [
    "selection.head()"
   ]
  },
  {
   "cell_type": "code",
   "execution_count": 35,
   "metadata": {
    "ExecuteTime": {
     "end_time": "2020-09-09T09:49:33.771788Z",
     "start_time": "2020-09-09T09:49:33.700780Z"
    }
   },
   "outputs": [],
   "source": [
    "selection.masculinity = selection.masculinity.map({'Very masculine': 4, 'Somewhat masculine': 3, 'Not very masculine': 2, 'Not at all masculine': 1})"
   ]
  },
  {
   "cell_type": "code",
   "execution_count": 36,
   "metadata": {
    "ExecuteTime": {
     "end_time": "2020-09-09T09:49:33.814754Z",
     "start_time": "2020-09-09T09:49:33.798805Z"
    }
   },
   "outputs": [
    {
     "data": {
      "text/html": [
       "<div>\n",
       "<style scoped>\n",
       "    .dataframe tbody tr th:only-of-type {\n",
       "        vertical-align: middle;\n",
       "    }\n",
       "\n",
       "    .dataframe tbody tr th {\n",
       "        vertical-align: top;\n",
       "    }\n",
       "\n",
       "    .dataframe thead th {\n",
       "        text-align: right;\n",
       "    }\n",
       "</style>\n",
       "<table border=\"1\" class=\"dataframe\">\n",
       "  <thead>\n",
       "    <tr style=\"text-align: right;\">\n",
       "      <th></th>\n",
       "      <th>masculinity</th>\n",
       "      <th>age_group</th>\n",
       "      <th>kids</th>\n",
       "      <th>orientation</th>\n",
       "      <th>race</th>\n",
       "      <th>marital_status</th>\n",
       "    </tr>\n",
       "  </thead>\n",
       "  <tbody>\n",
       "    <tr>\n",
       "      <th>0</th>\n",
       "      <td>3.0</td>\n",
       "      <td>35 - 64</td>\n",
       "      <td>No children</td>\n",
       "      <td>Gay</td>\n",
       "      <td>Hispanic</td>\n",
       "      <td>Never married</td>\n",
       "    </tr>\n",
       "    <tr>\n",
       "      <th>1</th>\n",
       "      <td>3.0</td>\n",
       "      <td>65 and up</td>\n",
       "      <td>Has children</td>\n",
       "      <td>Straight</td>\n",
       "      <td>White</td>\n",
       "      <td>Widowed</td>\n",
       "    </tr>\n",
       "    <tr>\n",
       "      <th>2</th>\n",
       "      <td>4.0</td>\n",
       "      <td>35 - 64</td>\n",
       "      <td>Has children</td>\n",
       "      <td>Straight</td>\n",
       "      <td>White</td>\n",
       "      <td>Married</td>\n",
       "    </tr>\n",
       "    <tr>\n",
       "      <th>3</th>\n",
       "      <td>4.0</td>\n",
       "      <td>65 and up</td>\n",
       "      <td>Has children</td>\n",
       "      <td>No answer</td>\n",
       "      <td>White</td>\n",
       "      <td>Married</td>\n",
       "    </tr>\n",
       "    <tr>\n",
       "      <th>4</th>\n",
       "      <td>4.0</td>\n",
       "      <td>35 - 64</td>\n",
       "      <td>No children</td>\n",
       "      <td>Straight</td>\n",
       "      <td>White</td>\n",
       "      <td>Never married</td>\n",
       "    </tr>\n",
       "  </tbody>\n",
       "</table>\n",
       "</div>"
      ],
      "text/plain": [
       "   masculinity  age_group          kids orientation      race marital_status\n",
       "0          3.0    35 - 64   No children         Gay  Hispanic  Never married\n",
       "1          3.0  65 and up  Has children    Straight     White        Widowed\n",
       "2          4.0    35 - 64  Has children    Straight     White        Married\n",
       "3          4.0  65 and up  Has children   No answer     White        Married\n",
       "4          4.0    35 - 64   No children    Straight     White  Never married"
      ]
     },
     "execution_count": 36,
     "metadata": {},
     "output_type": "execute_result"
    }
   ],
   "source": [
    "selection.head()"
   ]
  },
  {
   "cell_type": "code",
   "execution_count": 37,
   "metadata": {
    "ExecuteTime": {
     "end_time": "2020-09-09T09:49:34.307106Z",
     "start_time": "2020-09-09T09:49:34.289275Z"
    }
   },
   "outputs": [],
   "source": [
    "selection_cleaned = selection.dropna(subset = ['masculinity', 'age_group', 'kids'])"
   ]
  },
  {
   "cell_type": "code",
   "execution_count": 38,
   "metadata": {
    "ExecuteTime": {
     "end_time": "2020-09-09T09:49:34.387525Z",
     "start_time": "2020-09-09T09:49:34.373334Z"
    }
   },
   "outputs": [
    {
     "data": {
      "text/plain": [
       "masculinity       False\n",
       "age_group         False\n",
       "kids              False\n",
       "orientation       False\n",
       "race              False\n",
       "marital_status    False\n",
       "dtype: bool"
      ]
     },
     "execution_count": 38,
     "metadata": {},
     "output_type": "execute_result"
    }
   ],
   "source": [
    "selection_cleaned.isna().any()"
   ]
  },
  {
   "cell_type": "code",
   "execution_count": 39,
   "metadata": {
    "ExecuteTime": {
     "end_time": "2020-09-09T09:49:34.477710Z",
     "start_time": "2020-09-09T09:49:34.467573Z"
    }
   },
   "outputs": [],
   "source": [
    "selection_cleaned = selection_cleaned[selection_cleaned.race != 'W']"
   ]
  },
  {
   "cell_type": "code",
   "execution_count": 40,
   "metadata": {
    "ExecuteTime": {
     "end_time": "2020-09-09T09:49:34.603666Z",
     "start_time": "2020-09-09T09:49:34.567224Z"
    }
   },
   "outputs": [],
   "source": [
    "dictionary = {}\n",
    "demographics = ['age_group', 'kids', 'orientation', 'race', 'marital_status']\n",
    "for i in demographics:\n",
    "    dictionary[i] = selection_cleaned.groupby([i], as_index=False).masculinity.mean()"
   ]
  },
  {
   "cell_type": "code",
   "execution_count": 41,
   "metadata": {
    "ExecuteTime": {
     "end_time": "2020-09-09T09:49:34.663845Z",
     "start_time": "2020-09-09T09:49:34.658503Z"
    }
   },
   "outputs": [],
   "source": [
    "import matplotlib.gridspec as gridspec"
   ]
  },
  {
   "cell_type": "code",
   "execution_count": 48,
   "metadata": {
    "ExecuteTime": {
     "end_time": "2020-09-09T09:51:02.004294Z",
     "start_time": "2020-09-09T09:51:00.449623Z"
    }
   },
   "outputs": [
    {
     "data": {
      "image/png": "[encoded data removed]",
      "text/plain": [
       "<Figure size 2160x1440 with 5 Axes>"
      ]
     },
     "metadata": {
      "needs_background": "light"
     },
     "output_type": "display_data"
    }
   ],
   "source": [
    "demographics_to_plot = ['age_group', 'kids', 'orientation', 'race', 'marital_status']\n",
    "subplot_titles = ['Age Group', 'Kids', 'Sexual Orientation', 'Race', 'Marital Status']\n",
    "number_plot = [0, 0, 0, 1, 1]\n",
    "position_a = [0, 2, 4, 1, 3]\n",
    "position_b = [2, 4, 6, 3, 5]\n",
    "\n",
    "fig = plt.figure(figsize = (30, 20))\n",
    "fig.suptitle('Correlation of demographics and perceived masculinity', fontsize=25)\n",
    "\n",
    "gs = gridspec.GridSpec(2, 6)\n",
    "'''ax1 = plt.subplot(gs[0, 0:2])\n",
    "ax2 = plt.subplot(gs[0, 2:4])\n",
    "ax3 = plt.subplot(gs[0, 4:6])\n",
    "ax4 = plt.subplot(gs[1, 1:3])\n",
    "ax5 = plt.subplot(gs[1, 3:5])'''\n",
    "\n",
    "for i in range(len(demographics_to_plot)):\n",
    "    #ax = fig.add_subplot(2,3,i+1)\n",
    "    ax = plt.subplot(gs[number_plot[i], position_a[i]:position_b[i]])\n",
    "    y = dictionary[demographics_to_plot[i]].masculinity\n",
    "    x = range(len(y))\n",
    "    plt.ylim(0, 4)\n",
    "    plt.ylabel('Self-Described Masculinity', fontsize=15)\n",
    "    ax.set_title(subplot_titles[i], fontsize=20)\n",
    "    ax.set_xticks(range(len(dictionary[demographics_to_plot[i]])))\n",
    "    ax.set_xticklabels(dictionary[demographics_to_plot[i]][demographics_to_plot[i]], fontsize=15, rotation=90)\n",
    "    plt.bar(x, y)\n",
    "plt.subplots_adjust(wspace = 0.5)"
   ]
  }
 ],
 "metadata": {
  "kernelspec": {
   "display_name": "Python 3",
   "language": "python",
   "name": "python3"
  },
  "language_info": {
   "codemirror_mode": {
    "name": "ipython",
    "version": 3
   },
   "file_extension": ".py",
   "mimetype": "text/x-python",
   "name": "python",
   "nbconvert_exporter": "python",
   "pygments_lexer": "ipython3",
   "version": "3.7.3"
  },
  "toc": {
   "base_numbering": 1,
   "nav_menu": {},
   "number_sections": false,
   "sideBar": true,
   "skip_h1_title": true,
   "title_cell": "Table of Contents",
   "title_sidebar": "Contents",
   "toc_cell": false,
   "toc_position": {},
   "toc_section_display": true,
   "toc_window_display": true
  }
 },
 "nbformat": 4,
 "nbformat_minor": 2
}
