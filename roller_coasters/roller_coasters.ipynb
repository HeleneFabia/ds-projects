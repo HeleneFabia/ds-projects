{
 "cells": [
  {
   "cell_type": "markdown",
   "metadata": {},
   "source": [
    "# Roller Coaster"
   ]
  },
  {
   "cell_type": "markdown",
   "metadata": {},
   "source": [
    "(Project and data from codecademy.com)\n",
    "\n",
    "In this project, I code various function to visualize data about roller coasters as line graphs, bar plots, histograms, pie charts and scatter plots. \n",
    "\n",
    "At first, I import all necessary libraries and chose a design for the plots to visualize the data."
   ]
  },
  {
   "cell_type": "code",
   "execution_count": 2,
   "metadata": {
    "ExecuteTime": {
     "end_time": "2020-09-08T08:53:39.439417Z",
     "start_time": "2020-09-08T08:53:37.956186Z"
    }
   },
   "outputs": [],
   "source": [
    "import seaborn as sns\n",
    "import pandas as pd\n",
    "import matplotlib.pyplot as plt"
   ]
  },
  {
   "cell_type": "code",
   "execution_count": 3,
   "metadata": {
    "ExecuteTime": {
     "end_time": "2020-09-08T08:53:39.479729Z",
     "start_time": "2020-09-08T08:53:39.445889Z"
    }
   },
   "outputs": [],
   "source": [
    "sns.set_style(\"white\")\n",
    "sns.set_palette('Set1')\n",
    "plt.rcParams.update({'font.size': 12})"
   ]
  },
  {
   "cell_type": "markdown",
   "metadata": {},
   "source": [
    "I import the two dataframes and have a first look at them."
   ]
  },
  {
   "cell_type": "code",
   "execution_count": 4,
   "metadata": {
    "ExecuteTime": {
     "end_time": "2020-09-08T08:53:39.609051Z",
     "start_time": "2020-09-08T08:53:39.487553Z"
    }
   },
   "outputs": [],
   "source": [
    "df_wood = pd.read_csv('Golden_Ticket_Award_Winners_Wood.csv')\n",
    "df_steel = pd.read_csv('Golden_Ticket_Award_Winners_Steel.csv')"
   ]
  },
  {
   "cell_type": "code",
   "execution_count": 5,
   "metadata": {
    "ExecuteTime": {
     "end_time": "2020-09-08T08:53:39.636862Z",
     "start_time": "2020-09-08T08:53:39.613232Z"
    },
    "scrolled": true
   },
   "outputs": [
    {
     "data": {
      "text/html": [
       "<div>\n",
       "<style scoped>\n",
       "    .dataframe tbody tr th:only-of-type {\n",
       "        vertical-align: middle;\n",
       "    }\n",
       "\n",
       "    .dataframe tbody tr th {\n",
       "        vertical-align: top;\n",
       "    }\n",
       "\n",
       "    .dataframe thead th {\n",
       "        text-align: right;\n",
       "    }\n",
       "</style>\n",
       "<table border=\"1\" class=\"dataframe\">\n",
       "  <thead>\n",
       "    <tr style=\"text-align: right;\">\n",
       "      <th></th>\n",
       "      <th>Rank</th>\n",
       "      <th>Name</th>\n",
       "      <th>Park</th>\n",
       "      <th>Location</th>\n",
       "      <th>Supplier</th>\n",
       "      <th>Year Built</th>\n",
       "      <th>Points</th>\n",
       "      <th>Year of Rank</th>\n",
       "    </tr>\n",
       "  </thead>\n",
       "  <tbody>\n",
       "    <tr>\n",
       "      <th>0</th>\n",
       "      <td>1</td>\n",
       "      <td>Millennium Force</td>\n",
       "      <td>Cedar Point</td>\n",
       "      <td>Sandusky, Ohio</td>\n",
       "      <td>Intamin</td>\n",
       "      <td>2000</td>\n",
       "      <td>1204</td>\n",
       "      <td>2013</td>\n",
       "    </tr>\n",
       "    <tr>\n",
       "      <th>1</th>\n",
       "      <td>2</td>\n",
       "      <td>Bizarro</td>\n",
       "      <td>Six Flags New England</td>\n",
       "      <td>Agawam, Mass.</td>\n",
       "      <td>Intamin</td>\n",
       "      <td>2000</td>\n",
       "      <td>1011</td>\n",
       "      <td>2013</td>\n",
       "    </tr>\n",
       "    <tr>\n",
       "      <th>2</th>\n",
       "      <td>3</td>\n",
       "      <td>Expedition GeForce</td>\n",
       "      <td>Holiday Park</td>\n",
       "      <td>Hassloch, Germany</td>\n",
       "      <td>Intamin</td>\n",
       "      <td>2001</td>\n",
       "      <td>598</td>\n",
       "      <td>2013</td>\n",
       "    </tr>\n",
       "    <tr>\n",
       "      <th>3</th>\n",
       "      <td>4</td>\n",
       "      <td>Nitro</td>\n",
       "      <td>Six Flags Great Adventure</td>\n",
       "      <td>Jackson, N.J.</td>\n",
       "      <td>B&amp;M</td>\n",
       "      <td>2001</td>\n",
       "      <td>596</td>\n",
       "      <td>2013</td>\n",
       "    </tr>\n",
       "    <tr>\n",
       "      <th>4</th>\n",
       "      <td>5</td>\n",
       "      <td>Apollo’s Chariot</td>\n",
       "      <td>Busch Gardens Williamsburg</td>\n",
       "      <td>Williamsburg, Va.</td>\n",
       "      <td>B&amp;M</td>\n",
       "      <td>1999</td>\n",
       "      <td>542</td>\n",
       "      <td>2013</td>\n",
       "    </tr>\n",
       "    <tr>\n",
       "      <th>5</th>\n",
       "      <td>6</td>\n",
       "      <td>New Texas Giant</td>\n",
       "      <td>Six Flags Over Texas</td>\n",
       "      <td>Arlington, Texas</td>\n",
       "      <td>Rocky Mountain</td>\n",
       "      <td>2011</td>\n",
       "      <td>512</td>\n",
       "      <td>2013</td>\n",
       "    </tr>\n",
       "    <tr>\n",
       "      <th>6</th>\n",
       "      <td>7</td>\n",
       "      <td>Goliath</td>\n",
       "      <td>Six Flags Over Georgia</td>\n",
       "      <td>Austell, Ga.</td>\n",
       "      <td>B&amp;M</td>\n",
       "      <td>2006</td>\n",
       "      <td>494</td>\n",
       "      <td>2013</td>\n",
       "    </tr>\n",
       "    <tr>\n",
       "      <th>7</th>\n",
       "      <td>8</td>\n",
       "      <td>Intimidator</td>\n",
       "      <td>Carowinds</td>\n",
       "      <td>Charlotte, N.C.</td>\n",
       "      <td>B&amp;M</td>\n",
       "      <td>2010</td>\n",
       "      <td>478</td>\n",
       "      <td>2013</td>\n",
       "    </tr>\n",
       "    <tr>\n",
       "      <th>8</th>\n",
       "      <td>9</td>\n",
       "      <td>Magnum XL-200</td>\n",
       "      <td>Cedar Point</td>\n",
       "      <td>Sandusky, Ohio</td>\n",
       "      <td>Arrow</td>\n",
       "      <td>1989</td>\n",
       "      <td>416</td>\n",
       "      <td>2013</td>\n",
       "    </tr>\n",
       "    <tr>\n",
       "      <th>9</th>\n",
       "      <td>10</td>\n",
       "      <td>Intimidator-305</td>\n",
       "      <td>Kings Dominion</td>\n",
       "      <td>Doswell, Va.</td>\n",
       "      <td>Intamin</td>\n",
       "      <td>2010</td>\n",
       "      <td>412</td>\n",
       "      <td>2013</td>\n",
       "    </tr>\n",
       "  </tbody>\n",
       "</table>\n",
       "</div>"
      ],
      "text/plain": [
       "   Rank                Name                        Park           Location  \\\n",
       "0     1    Millennium Force                 Cedar Point     Sandusky, Ohio   \n",
       "1     2             Bizarro       Six Flags New England      Agawam, Mass.   \n",
       "2     3  Expedition GeForce                Holiday Park  Hassloch, Germany   \n",
       "3     4               Nitro   Six Flags Great Adventure      Jackson, N.J.   \n",
       "4     5    Apollo’s Chariot  Busch Gardens Williamsburg  Williamsburg, Va.   \n",
       "5     6     New Texas Giant        Six Flags Over Texas   Arlington, Texas   \n",
       "6     7             Goliath      Six Flags Over Georgia       Austell, Ga.   \n",
       "7     8         Intimidator                   Carowinds    Charlotte, N.C.   \n",
       "8     9       Magnum XL-200                 Cedar Point     Sandusky, Ohio   \n",
       "9    10     Intimidator-305              Kings Dominion       Doswell, Va.   \n",
       "\n",
       "         Supplier  Year Built  Points  Year of Rank  \n",
       "0         Intamin        2000    1204          2013  \n",
       "1         Intamin        2000    1011          2013  \n",
       "2         Intamin        2001     598          2013  \n",
       "3             B&M        2001     596          2013  \n",
       "4             B&M        1999     542          2013  \n",
       "5  Rocky Mountain        2011     512          2013  \n",
       "6             B&M        2006     494          2013  \n",
       "7             B&M        2010     478          2013  \n",
       "8           Arrow        1989     416          2013  \n",
       "9         Intamin        2010     412          2013  "
      ]
     },
     "execution_count": 5,
     "metadata": {},
     "output_type": "execute_result"
    }
   ],
   "source": [
    "df_steel.head(10)"
   ]
  },
  {
   "cell_type": "code",
   "execution_count": 6,
   "metadata": {
    "ExecuteTime": {
     "end_time": "2020-09-08T08:53:39.668888Z",
     "start_time": "2020-09-08T08:53:39.641329Z"
    }
   },
   "outputs": [
    {
     "data": {
      "text/html": [
       "<div>\n",
       "<style scoped>\n",
       "    .dataframe tbody tr th:only-of-type {\n",
       "        vertical-align: middle;\n",
       "    }\n",
       "\n",
       "    .dataframe tbody tr th {\n",
       "        vertical-align: top;\n",
       "    }\n",
       "\n",
       "    .dataframe thead th {\n",
       "        text-align: right;\n",
       "    }\n",
       "</style>\n",
       "<table border=\"1\" class=\"dataframe\">\n",
       "  <thead>\n",
       "    <tr style=\"text-align: right;\">\n",
       "      <th></th>\n",
       "      <th>Rank</th>\n",
       "      <th>Name</th>\n",
       "      <th>Park</th>\n",
       "      <th>Location</th>\n",
       "      <th>Supplier</th>\n",
       "      <th>Year Built</th>\n",
       "      <th>Points</th>\n",
       "      <th>Year of Rank</th>\n",
       "    </tr>\n",
       "  </thead>\n",
       "  <tbody>\n",
       "    <tr>\n",
       "      <th>0</th>\n",
       "      <td>1</td>\n",
       "      <td>Boulder Dash</td>\n",
       "      <td>Lake Compounce</td>\n",
       "      <td>Bristol, Conn.</td>\n",
       "      <td>CCI</td>\n",
       "      <td>2000</td>\n",
       "      <td>1333</td>\n",
       "      <td>2013</td>\n",
       "    </tr>\n",
       "    <tr>\n",
       "      <th>1</th>\n",
       "      <td>2</td>\n",
       "      <td>El Toro</td>\n",
       "      <td>Six Flags Great Adventure</td>\n",
       "      <td>Jackson, N.J.</td>\n",
       "      <td>Intamin</td>\n",
       "      <td>2006</td>\n",
       "      <td>1302</td>\n",
       "      <td>2013</td>\n",
       "    </tr>\n",
       "    <tr>\n",
       "      <th>2</th>\n",
       "      <td>3</td>\n",
       "      <td>Phoenix</td>\n",
       "      <td>Knoebels Amusement Resort</td>\n",
       "      <td>Elysburg, Pa.</td>\n",
       "      <td>Dinn/PTC-Schmeck</td>\n",
       "      <td>1985</td>\n",
       "      <td>1088</td>\n",
       "      <td>2013</td>\n",
       "    </tr>\n",
       "    <tr>\n",
       "      <th>3</th>\n",
       "      <td>4</td>\n",
       "      <td>The Voyage</td>\n",
       "      <td>Holiday World</td>\n",
       "      <td>Santa Claus, Ind.</td>\n",
       "      <td>Gravity Group</td>\n",
       "      <td>2006</td>\n",
       "      <td>1086</td>\n",
       "      <td>2013</td>\n",
       "    </tr>\n",
       "    <tr>\n",
       "      <th>4</th>\n",
       "      <td>5</td>\n",
       "      <td>Thunderhead</td>\n",
       "      <td>Dollywood</td>\n",
       "      <td>Pigeon Forge, Tenn.</td>\n",
       "      <td>GCII</td>\n",
       "      <td>2004</td>\n",
       "      <td>923</td>\n",
       "      <td>2013</td>\n",
       "    </tr>\n",
       "    <tr>\n",
       "      <th>5</th>\n",
       "      <td>6</td>\n",
       "      <td>Ravine Flyer II</td>\n",
       "      <td>Waldameer</td>\n",
       "      <td>Erie, Pa.</td>\n",
       "      <td>Gravity Group</td>\n",
       "      <td>2008</td>\n",
       "      <td>712</td>\n",
       "      <td>2013</td>\n",
       "    </tr>\n",
       "    <tr>\n",
       "      <th>6</th>\n",
       "      <td>7</td>\n",
       "      <td>Outlaw Run</td>\n",
       "      <td>Silver Dollar City</td>\n",
       "      <td>Branson, Mo.</td>\n",
       "      <td>Rocky Mountain</td>\n",
       "      <td>2013</td>\n",
       "      <td>599</td>\n",
       "      <td>2013</td>\n",
       "    </tr>\n",
       "    <tr>\n",
       "      <th>7</th>\n",
       "      <td>8</td>\n",
       "      <td>The Beast</td>\n",
       "      <td>Kings Island</td>\n",
       "      <td>Kings Mills, Ohio</td>\n",
       "      <td>KECO</td>\n",
       "      <td>1979</td>\n",
       "      <td>555</td>\n",
       "      <td>2013</td>\n",
       "    </tr>\n",
       "    <tr>\n",
       "      <th>8</th>\n",
       "      <td>9</td>\n",
       "      <td>Lightning Racer</td>\n",
       "      <td>Hersheypark</td>\n",
       "      <td>Hershey, Pa.</td>\n",
       "      <td>GCII</td>\n",
       "      <td>2000</td>\n",
       "      <td>364</td>\n",
       "      <td>2013</td>\n",
       "    </tr>\n",
       "    <tr>\n",
       "      <th>9</th>\n",
       "      <td>10</td>\n",
       "      <td>Shivering Timbers</td>\n",
       "      <td>Michigan’s Adventure</td>\n",
       "      <td>Muskegon, Mich.</td>\n",
       "      <td>CCI</td>\n",
       "      <td>1998</td>\n",
       "      <td>304</td>\n",
       "      <td>2013</td>\n",
       "    </tr>\n",
       "  </tbody>\n",
       "</table>\n",
       "</div>"
      ],
      "text/plain": [
       "   Rank               Name                       Park             Location  \\\n",
       "0     1       Boulder Dash             Lake Compounce       Bristol, Conn.   \n",
       "1     2            El Toro  Six Flags Great Adventure        Jackson, N.J.   \n",
       "2     3            Phoenix  Knoebels Amusement Resort        Elysburg, Pa.   \n",
       "3     4         The Voyage              Holiday World    Santa Claus, Ind.   \n",
       "4     5        Thunderhead                  Dollywood  Pigeon Forge, Tenn.   \n",
       "5     6    Ravine Flyer II                  Waldameer            Erie, Pa.   \n",
       "6     7         Outlaw Run         Silver Dollar City         Branson, Mo.   \n",
       "7     8          The Beast               Kings Island    Kings Mills, Ohio   \n",
       "8     9    Lightning Racer                Hersheypark         Hershey, Pa.   \n",
       "9    10  Shivering Timbers       Michigan’s Adventure      Muskegon, Mich.   \n",
       "\n",
       "           Supplier  Year Built  Points  Year of Rank  \n",
       "0               CCI        2000    1333          2013  \n",
       "1           Intamin        2006    1302          2013  \n",
       "2  Dinn/PTC-Schmeck        1985    1088          2013  \n",
       "3     Gravity Group        2006    1086          2013  \n",
       "4              GCII        2004     923          2013  \n",
       "5     Gravity Group        2008     712          2013  \n",
       "6    Rocky Mountain        2013     599          2013  \n",
       "7              KECO        1979     555          2013  \n",
       "8              GCII        2000     364          2013  \n",
       "9               CCI        1998     304          2013  "
      ]
     },
     "execution_count": 6,
     "metadata": {},
     "output_type": "execute_result"
    }
   ],
   "source": [
    "df_wood.head(10)"
   ]
  },
  {
   "cell_type": "markdown",
   "metadata": {},
   "source": [
    "The following function takes the name of a roller coaster, the name of the corresponding park and the name of the dataframe and plots the ranking of the given roller coaster over time."
   ]
  },
  {
   "cell_type": "code",
   "execution_count": 40,
   "metadata": {
    "ExecuteTime": {
     "end_time": "2020-09-08T08:59:31.017728Z",
     "start_time": "2020-09-08T08:59:31.008355Z"
    }
   },
   "outputs": [],
   "source": [
    "def plot_roller_coaster(roller_coaster, park_name, dataframe):\n",
    "    df_select = dataframe[(dataframe.Park == park_name) \n",
    "                          & (dataframe.Name == roller_coaster)].reset_index()\n",
    "    df_coaster_rank = df_select['Rank']\n",
    "    df_select['negative_rank'] = df_select.Rank.apply(lambda x: x * -1)\n",
    "    \n",
    "    plt.plot(df_select['Year of Rank'], df_select['negative_rank'])\n",
    "    plt.xlabel('Year')\n",
    "    plt.ylabel('Rank')\n",
    "    plt.title('Rank of {} each Year'.format(roller_coaster))\n",
    "    \n",
    "    ax = plt.subplot()\n",
    "    max_rank = df_select.Rank.max()\n",
    "    min_rank = df_select.Rank.min()\n",
    "    ax.set_yticks(range(-max_rank, -min_rank +1))\n",
    "    ax.set_yticklabels(range(max_rank, min_rank -1, -1))\n",
    "    \n",
    "    plt.show()"
   ]
  },
  {
   "cell_type": "code",
   "execution_count": 41,
   "metadata": {
    "ExecuteTime": {
     "end_time": "2020-09-08T08:59:31.719406Z",
     "start_time": "2020-09-08T08:59:31.398191Z"
    }
   },
   "outputs": [
    {
     "name": "stderr",
     "output_type": "stream",
     "text": [
      "/Users/Helene/anaconda3/lib/python3.7/site-packages/ipykernel_launcher.py:12: MatplotlibDeprecationWarning: Adding an axes using the same arguments as a previous axes currently reuses the earlier instance.  In a future version, a new instance will always be created and returned.  Meanwhile, this warning can be suppressed, and the future behavior ensured, by passing a unique label to each axes instance.\n",
      "  if sys.path[0] == '':\n"
     ]
    },
    {
     "data": {
      "image/png": "[encoded data removed]",
      "text/plain": [
       "<Figure size 432x288 with 1 Axes>"
      ]
     },
     "metadata": {},
     "output_type": "display_data"
    }
   ],
   "source": [
    "plot_roller_coaster('El Toro', 'Six Flags Great Adventure', df_wood)"
   ]
  },
  {
   "cell_type": "markdown",
   "metadata": {},
   "source": [
    "This function plots the ranking of two roller coasters over time as a line and takes the names of the roller coasters, the names of the respective parks and the dataframe. "
   ]
  },
  {
   "cell_type": "code",
   "execution_count": 25,
   "metadata": {
    "ExecuteTime": {
     "end_time": "2020-09-08T08:56:12.479268Z",
     "start_time": "2020-09-08T08:56:12.462199Z"
    }
   },
   "outputs": [],
   "source": [
    "def plot_two_roller_coasters(roller_coaster_1, park_name_1, roller_coaster_2, park_name_2, dataframe):\n",
    "    \n",
    "    df_coaster_1 = dataframe[(dataframe.Name == roller_coaster_1) \n",
    "                             & (dataframe.Park == park_name_1)].reset_index()\n",
    "    #print(df_coaster_1)\n",
    "    \n",
    "    df_coaster_2 = dataframe[(dataframe.Name == roller_coaster_2) & \n",
    "                            (dataframe.Park == park_name_2)].reset_index()\n",
    "    #print(df_coaster_2)\n",
    "    \n",
    "    df_coaster_1['negative_rank'] = df_coaster_1.Rank.apply(lambda x: x * -1)\n",
    "    df_coaster_year_1 = df_coaster_1['Year of Rank']\n",
    "    #print(df_coaster_year_1)\n",
    "    \n",
    "    df_coaster_2['negative_rank'] = df_coaster_2.Rank.apply(lambda x: x * -1)\n",
    "    df_coaster_year_2 = df_coaster_2['Year of Rank']\n",
    "    #print(df_coaster_year_2)\n",
    "    \n",
    "    plt.plot(df_coaster_year_1, df_coaster_1.negative_rank)\n",
    "    plt.plot(df_coaster_year_2, df_coaster_2.negative_rank)\n",
    "    plt.xlabel('Year')\n",
    "    plt.ylabel('Rank')\n",
    "    plt.title('Rank of {} and {} each Year'.format(roller_coaster_1, roller_coaster_2))\n",
    "    plt.legend([roller_coaster_1, roller_coaster_2])\n",
    "    \n",
    "    ax = plt.subplot()\n",
    "    \n",
    "    max_rank_1 = df_coaster_1.Rank.max()\n",
    "    max_rank_2 = df_coaster_2.Rank.max()\n",
    "    if max_rank_1 > max_rank_2:\n",
    "        max_rank = max_rank_1.max()\n",
    "    else:\n",
    "        max_rank = max_rank_2.max()\n",
    "    #print(max_rank)\n",
    "        \n",
    "    min_rank_1 = df_coaster_1.Rank.min()\n",
    "    min_rank_2 = df_coaster_2.Rank.min()\n",
    "    if min_rank_1 < min_rank_2:\n",
    "        min_rank = min_rank_1.min()\n",
    "    else:\n",
    "        min_rank = min_rank_2.min()\n",
    "    #print(min_rank)\n",
    "        \n",
    "    ax.set_yticks(range(-max_rank, -min_rank +1))\n",
    "    ax.set_yticklabels(range(max_rank, min_rank -1, -1))\n",
    "    \n",
    "    plt.show()"
   ]
  },
  {
   "cell_type": "code",
   "execution_count": 27,
   "metadata": {
    "ExecuteTime": {
     "end_time": "2020-09-08T08:56:52.286773Z",
     "start_time": "2020-09-08T08:56:51.873708Z"
    }
   },
   "outputs": [
    {
     "name": "stderr",
     "output_type": "stream",
     "text": [
      "/Users/Helene/anaconda3/lib/python3.7/site-packages/ipykernel_launcher.py:26: MatplotlibDeprecationWarning: Adding an axes using the same arguments as a previous axes currently reuses the earlier instance.  In a future version, a new instance will always be created and returned.  Meanwhile, this warning can be suppressed, and the future behavior ensured, by passing a unique label to each axes instance.\n"
     ]
    },
    {
     "data": {
      "image/png": "[encoded data removed]",
      "text/plain": [
       "<Figure size 432x288 with 1 Axes>"
      ]
     },
     "metadata": {},
     "output_type": "display_data"
    },
    {
     "data": {
      "text/plain": [
       "<Figure size 432x288 with 0 Axes>"
      ]
     },
     "metadata": {},
     "output_type": "display_data"
    }
   ],
   "source": [
    "plot_two_roller_coasters('El Toro', 'Six Flags Great Adventure', 'Thunderhead', 'Dollywood', df_wood)\n",
    "plt.savefig('plot_two_rollercoasters.png')"
   ]
  },
  {
   "cell_type": "markdown",
   "metadata": {},
   "source": [
    "This function plots the ranking of the top n ranked roller coasters over time as lines."
   ]
  },
  {
   "cell_type": "code",
   "execution_count": 28,
   "metadata": {
    "ExecuteTime": {
     "end_time": "2020-09-08T08:57:07.955762Z",
     "start_time": "2020-09-08T08:57:07.944494Z"
    },
    "scrolled": true
   },
   "outputs": [],
   "source": [
    "from matplotlib import pylab\n",
    "\n",
    "def plot_n_roller_coasters(dataframe, n):\n",
    "    \n",
    "    plt.figure(figsize = (8, 6))\n",
    "    ax = plt.subplot()\n",
    "    \n",
    "    top_n_rankings = dataframe[dataframe['Rank'] <= n]\n",
    "    \n",
    "    for coaster in set(top_n_rankings['Name']):\n",
    "        coaster_rankings = top_n_rankings[top_n_rankings['Name'] == coaster]\n",
    "        ax.plot(coaster_rankings['Year of Rank'], coaster_rankings['Rank'].apply(lambda x: x * -1), label = coaster)\n",
    "    \n",
    "    plt.title('Rank over Time of the Top {} Ranked Roller Coasters'.format(n))\n",
    "    pylab.legend(loc=9, bbox_to_anchor = (1.2, 1))\n",
    "    \n",
    "    max_rank = coaster_rankings['Rank'].max()\n",
    "    #print(max_rank)\n",
    "        \n",
    "    min_rank = top_n_rankings['Rank'].min()\n",
    "    #print(min_rank)\n",
    "        \n",
    "    ax.set_yticks(range(-max_rank, -min_rank +1))\n",
    "    ax.set_yticklabels(range(max_rank, min_rank -1, -1))\n",
    "    plt.show()"
   ]
  },
  {
   "cell_type": "code",
   "execution_count": 30,
   "metadata": {
    "ExecuteTime": {
     "end_time": "2020-09-08T08:57:22.540771Z",
     "start_time": "2020-09-08T08:57:21.781867Z"
    }
   },
   "outputs": [
    {
     "data": {
      "image/png": "[encoded data removed]",
      "text/plain": [
       "<Figure size 576x432 with 1 Axes>"
      ]
     },
     "metadata": {},
     "output_type": "display_data"
    },
    {
     "data": {
      "text/plain": [
       "<Figure size 432x288 with 0 Axes>"
      ]
     },
     "metadata": {},
     "output_type": "display_data"
    }
   ],
   "source": [
    "plot_n_roller_coasters(df_wood, 5)\n",
    "plt.savefig('plot_top_5_rollercoasters.png')"
   ]
  },
  {
   "cell_type": "markdown",
   "metadata": {},
   "source": [
    "The following functions visualize statistics about the roller coasters themselves. "
   ]
  },
  {
   "cell_type": "code",
   "execution_count": 20,
   "metadata": {
    "ExecuteTime": {
     "end_time": "2020-09-08T08:55:28.932966Z",
     "start_time": "2020-09-08T08:55:28.889353Z"
    }
   },
   "outputs": [
    {
     "data": {
      "text/html": [
       "<div>\n",
       "<style scoped>\n",
       "    .dataframe tbody tr th:only-of-type {\n",
       "        vertical-align: middle;\n",
       "    }\n",
       "\n",
       "    .dataframe tbody tr th {\n",
       "        vertical-align: top;\n",
       "    }\n",
       "\n",
       "    .dataframe thead th {\n",
       "        text-align: right;\n",
       "    }\n",
       "</style>\n",
       "<table border=\"1\" class=\"dataframe\">\n",
       "  <thead>\n",
       "    <tr style=\"text-align: right;\">\n",
       "      <th></th>\n",
       "      <th>name</th>\n",
       "      <th>material_type</th>\n",
       "      <th>seating_type</th>\n",
       "      <th>speed</th>\n",
       "      <th>height</th>\n",
       "      <th>length</th>\n",
       "      <th>num_inversions</th>\n",
       "      <th>manufacturer</th>\n",
       "      <th>park</th>\n",
       "      <th>status</th>\n",
       "    </tr>\n",
       "  </thead>\n",
       "  <tbody>\n",
       "    <tr>\n",
       "      <th>0</th>\n",
       "      <td>Goudurix</td>\n",
       "      <td>Steel</td>\n",
       "      <td>Sit Down</td>\n",
       "      <td>75.0</td>\n",
       "      <td>37.0</td>\n",
       "      <td>950.0</td>\n",
       "      <td>7.0</td>\n",
       "      <td>Vekoma</td>\n",
       "      <td>Parc Asterix</td>\n",
       "      <td>status.operating</td>\n",
       "    </tr>\n",
       "    <tr>\n",
       "      <th>1</th>\n",
       "      <td>Dream catcher</td>\n",
       "      <td>Steel</td>\n",
       "      <td>Suspended</td>\n",
       "      <td>45.0</td>\n",
       "      <td>25.0</td>\n",
       "      <td>600.0</td>\n",
       "      <td>0.0</td>\n",
       "      <td>Vekoma</td>\n",
       "      <td>Bobbejaanland</td>\n",
       "      <td>status.operating</td>\n",
       "    </tr>\n",
       "    <tr>\n",
       "      <th>2</th>\n",
       "      <td>Alucinakis</td>\n",
       "      <td>Steel</td>\n",
       "      <td>Sit Down</td>\n",
       "      <td>30.0</td>\n",
       "      <td>8.0</td>\n",
       "      <td>250.0</td>\n",
       "      <td>0.0</td>\n",
       "      <td>Zamperla</td>\n",
       "      <td>Terra Mítica</td>\n",
       "      <td>status.operating</td>\n",
       "    </tr>\n",
       "    <tr>\n",
       "      <th>3</th>\n",
       "      <td>Anaconda</td>\n",
       "      <td>Wooden</td>\n",
       "      <td>Sit Down</td>\n",
       "      <td>85.0</td>\n",
       "      <td>35.0</td>\n",
       "      <td>1200.0</td>\n",
       "      <td>0.0</td>\n",
       "      <td>William J. Cobb</td>\n",
       "      <td>Walygator Parc</td>\n",
       "      <td>status.operating</td>\n",
       "    </tr>\n",
       "    <tr>\n",
       "      <th>4</th>\n",
       "      <td>Azteka</td>\n",
       "      <td>Steel</td>\n",
       "      <td>Sit Down</td>\n",
       "      <td>55.0</td>\n",
       "      <td>17.0</td>\n",
       "      <td>500.0</td>\n",
       "      <td>0.0</td>\n",
       "      <td>Soquet</td>\n",
       "      <td>Le Pal</td>\n",
       "      <td>status.operating</td>\n",
       "    </tr>\n",
       "  </tbody>\n",
       "</table>\n",
       "</div>"
      ],
      "text/plain": [
       "            name material_type seating_type  speed  height  length  \\\n",
       "0       Goudurix         Steel     Sit Down   75.0    37.0   950.0   \n",
       "1  Dream catcher         Steel    Suspended   45.0    25.0   600.0   \n",
       "2     Alucinakis         Steel     Sit Down   30.0     8.0   250.0   \n",
       "3       Anaconda        Wooden     Sit Down   85.0    35.0  1200.0   \n",
       "4         Azteka         Steel     Sit Down   55.0    17.0   500.0   \n",
       "\n",
       "   num_inversions     manufacturer            park            status  \n",
       "0             7.0           Vekoma    Parc Asterix  status.operating  \n",
       "1             0.0           Vekoma   Bobbejaanland  status.operating  \n",
       "2             0.0         Zamperla    Terra Mítica  status.operating  \n",
       "3             0.0  William J. Cobb  Walygator Parc  status.operating  \n",
       "4             0.0           Soquet          Le Pal  status.operating  "
      ]
     },
     "execution_count": 20,
     "metadata": {},
     "output_type": "execute_result"
    }
   ],
   "source": [
    "df_roller_coasters = pd.read_csv('roller_coasters.csv')\n",
    "df_roller_coasters.head()"
   ]
  },
  {
   "cell_type": "markdown",
   "metadata": {},
   "source": [
    "This function takes the name of a dataframe and the name of a numeric column and plots a histogram with it."
   ]
  },
  {
   "cell_type": "code",
   "execution_count": 31,
   "metadata": {
    "ExecuteTime": {
     "end_time": "2020-09-08T08:57:40.343632Z",
     "start_time": "2020-09-08T08:57:40.335057Z"
    }
   },
   "outputs": [],
   "source": [
    "def roller_coaster_plot(dataframe, column_as_string):\n",
    "    var_max = dataframe[column_as_string].max()\n",
    "    #print(var_max)\n",
    "    var_min = dataframe[column_as_string].min()\n",
    "    #print(var_min)\n",
    "    plt.hist(dataframe[column_as_string], bins = 20, range = (var_min, var_max + 1))\n",
    "    label = column_as_string.title()\n",
    "    \n",
    "    if column_as_string == 'num_inversions':\n",
    "        plt.title('{} of All Roller Coasters'.format('Number of Inversions'))\n",
    "    else:\n",
    "        plt.title('{} of All Roller Coasters'.format(label))\n",
    "    \n",
    "    plt.ylabel('Number of Roller Coasters')\n",
    "    \n",
    "    if column_as_string == 'num_inversions':\n",
    "        plt.xlabel('Number of Inversions')\n",
    "    else:\n",
    "        plt.xlabel(label)\n",
    "    plt.show()"
   ]
  },
  {
   "cell_type": "code",
   "execution_count": 32,
   "metadata": {
    "ExecuteTime": {
     "end_time": "2020-09-08T08:57:58.094346Z",
     "start_time": "2020-09-08T08:57:57.669537Z"
    }
   },
   "outputs": [
    {
     "data": {
      "image/png": "[encoded data removed]",
      "text/plain": [
       "<Figure size 432x288 with 1 Axes>"
      ]
     },
     "metadata": {},
     "output_type": "display_data"
    },
    {
     "data": {
      "text/plain": [
       "<Figure size 432x288 with 0 Axes>"
      ]
     },
     "metadata": {},
     "output_type": "display_data"
    }
   ],
   "source": [
    "roller_coaster_plot(df_roller_coasters, 'length')\n",
    "plt.savefig('rollercoaster_length.png')"
   ]
  },
  {
   "cell_type": "markdown",
   "metadata": {},
   "source": [
    "This function plots a bar chart showing the number of inversions for each roller coaster at an amusement park and takes the roller coaster dataframe and an amusement park name as arguments. "
   ]
  },
  {
   "cell_type": "code",
   "execution_count": 33,
   "metadata": {
    "ExecuteTime": {
     "end_time": "2020-09-08T08:58:06.068766Z",
     "start_time": "2020-09-08T08:58:06.057412Z"
    }
   },
   "outputs": [],
   "source": [
    "def inversions_roller_coaster(dataframe, park_name_as_string):\n",
    "    roller_coasters = dataframe[dataframe.park == park_name_as_string].reset_index()\n",
    "    #print(roller_coasters)\n",
    "    number_inversions = roller_coasters.num_inversions\n",
    "    #print(number_inversions)\n",
    "    \n",
    "    y_values = number_inversions\n",
    "    x_values = range(len(y_values))\n",
    "    plt.bar(x_values, y_values)\n",
    "    plt.title('Number of Inversions per Roller Coaster at {}'.format(park_name_as_string))\n",
    "    plt.ylabel('Number of Inversions')\n",
    "    plt.xlabel('Name of Roller Coasters')\n",
    "    \n",
    "    ax = plt.subplot()\n",
    "    names = roller_coasters.name\n",
    "    ax.set_xticks(range(len(names)))\n",
    "    ax.set_xticklabels(names, rotation = 90)\n",
    "    plt.show()"
   ]
  },
  {
   "cell_type": "code",
   "execution_count": 34,
   "metadata": {
    "ExecuteTime": {
     "end_time": "2020-09-08T08:58:09.024848Z",
     "start_time": "2020-09-08T08:58:08.567683Z"
    }
   },
   "outputs": [
    {
     "name": "stderr",
     "output_type": "stream",
     "text": [
      "/Users/Helene/anaconda3/lib/python3.7/site-packages/ipykernel_launcher.py:14: MatplotlibDeprecationWarning: Adding an axes using the same arguments as a previous axes currently reuses the earlier instance.  In a future version, a new instance will always be created and returned.  Meanwhile, this warning can be suppressed, and the future behavior ensured, by passing a unique label to each axes instance.\n",
      "  \n"
     ]
    },
    {
     "data": {
      "image/png": "[encoded data removed]",
      "text/plain": [
       "<Figure size 432x288 with 1 Axes>"
      ]
     },
     "metadata": {},
     "output_type": "display_data"
    }
   ],
   "source": [
    "inversions_roller_coaster(df_roller_coasters, 'Walibi Belgium')"
   ]
  },
  {
   "cell_type": "markdown",
   "metadata": {},
   "source": [
    "This function plots a pie chart that compares the number of operating roller coasters ('status.operating') to the number of closed roller coasters ('status.closed.definitely') and takes the roller coaster dataframe as an argument."
   ]
  },
  {
   "cell_type": "code",
   "execution_count": 35,
   "metadata": {
    "ExecuteTime": {
     "end_time": "2020-09-08T08:58:14.979261Z",
     "start_time": "2020-09-08T08:58:14.972463Z"
    }
   },
   "outputs": [],
   "source": [
    "def operating_roller_coasters(dataframe):\n",
    "    operating = dataframe[dataframe.status == 'status.operating'].status.count()\n",
    "    not_operating = dataframe[dataframe.status == 'status.closed.definitely'].status.count()\n",
    "    my_list = [operating, not_operating]\n",
    "    plt.pie(my_list, labels = ['Operating', 'Closed definitely'], autopct = '%0.1f%%')\n",
    "    plt.axis('equal')\n",
    "    plt.title('Operating Status of Roller Coasters')\n",
    "    plt.show()"
   ]
  },
  {
   "cell_type": "code",
   "execution_count": 37,
   "metadata": {
    "ExecuteTime": {
     "end_time": "2020-09-08T08:58:37.136497Z",
     "start_time": "2020-09-08T08:58:37.008561Z"
    },
    "scrolled": true
   },
   "outputs": [
    {
     "data": {
      "image/png": "[encoded data removed]",
      "text/plain": [
       "<Figure size 432x288 with 1 Axes>"
      ]
     },
     "metadata": {},
     "output_type": "display_data"
    },
    {
     "data": {
      "text/plain": [
       "<Figure size 432x288 with 0 Axes>"
      ]
     },
     "metadata": {},
     "output_type": "display_data"
    }
   ],
   "source": [
    "operating_roller_coasters(df_roller_coasters)\n",
    "plt.savefig('operating_status.png')"
   ]
  },
  {
   "cell_type": "markdown",
   "metadata": {},
   "source": [
    "This function creates a scatter plot of two numeric columns of the roller coaster DataFrame."
   ]
  },
  {
   "cell_type": "code",
   "execution_count": 39,
   "metadata": {
    "ExecuteTime": {
     "end_time": "2020-09-08T08:59:15.083519Z",
     "start_time": "2020-09-08T08:59:15.068845Z"
    }
   },
   "outputs": [],
   "source": [
    "def scatter_plot(dataframe, column1_as_string, column2_as_string):\n",
    "    \n",
    "    x_values = dataframe[column1_as_string]\n",
    "    y_values = dataframe[column2_as_string]\n",
    "    #print(x_values.head())\n",
    "    #print(y_values.head())\n",
    "    \n",
    "    x_label = column1_as_string.title()\n",
    "    y_label = column2_as_string.title()\n",
    "    \n",
    "    plt.scatter(x_values, y_values, s = 10, color = 'b', marker = 'o')\n",
    "    plt.xlabel(x_label)\n",
    "    plt.ylabel(y_label)\n",
    "    \n",
    "    if column1_as_string == 'num_inversions':\n",
    "        plt.xlabel('Number of Inversions')\n",
    "    elif column2_as_string == 'num_inversions':\n",
    "        plt.ylabel('Number of Inversions')\n",
    "    else:\n",
    "        plt.xlabel(x_label)\n",
    "        plt.ylabel(y_label)\n",
    "    \n",
    "    if column1_as_string == 'num_inversions':\n",
    "        plt.title('Correlation Between {} \\n and {} of Roller Coasters'.format('Number of Inversions', y_label))\n",
    "    elif column2_as_string == 'num_inversions':\n",
    "        plt.title('Correlation Between {} \\n and {} of Roller Coasters'.format(x_label, 'Number of Inversions'))\n",
    "    else:\n",
    "        plt.title('Correlation Between {} \\n and {} of Roller Coasters'.format(x_label, y_label))\n",
    "    \n",
    "    plt.show()"
   ]
  },
  {
   "cell_type": "code",
   "execution_count": 38,
   "metadata": {
    "ExecuteTime": {
     "end_time": "2020-09-08T08:59:13.668609Z",
     "start_time": "2020-09-08T08:59:13.261885Z"
    }
   },
   "outputs": [
    {
     "data": {
      "image/png": "[encoded data removed]",
      "text/plain": [
       "<Figure size 432x288 with 1 Axes>"
      ]
     },
     "metadata": {},
     "output_type": "display_data"
    },
    {
     "data": {
      "text/plain": [
       "<Figure size 432x288 with 0 Axes>"
      ]
     },
     "metadata": {},
     "output_type": "display_data"
    }
   ],
   "source": [
    "scatter_plot(df_roller_coasters, 'length', 'height')\n",
    "plt.savefig('correlation_length_height.png')"
   ]
  }
 ],
 "metadata": {
  "kernelspec": {
   "display_name": "Python 3",
   "language": "python",
   "name": "python3"
  },
  "language_info": {
   "codemirror_mode": {
    "name": "ipython",
    "version": 3
   },
   "file_extension": ".py",
   "mimetype": "text/x-python",
   "name": "python",
   "nbconvert_exporter": "python",
   "pygments_lexer": "ipython3",
   "version": "3.7.3"
  },
  "toc": {
   "base_numbering": 1,
   "nav_menu": {},
   "number_sections": false,
   "sideBar": true,
   "skip_h1_title": true,
   "title_cell": "Table of Contents",
   "title_sidebar": "Contents",
   "toc_cell": false,
   "toc_position": {},
   "toc_section_display": true,
   "toc_window_display": true
  }
 },
 "nbformat": 4,
 "nbformat_minor": 2
}
